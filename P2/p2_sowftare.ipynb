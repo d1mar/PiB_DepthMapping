{
 "cells": [
  {
   "cell_type": "markdown",
   "metadata": {},
   "source": [
    "# Filtering and Scaling Depth Data"
   ]
  },
  {
   "cell_type": "markdown",
   "metadata": {},
   "source": [
    "Congratulations on making it to this part of the project. Before we continue, lets review the overarching goals of Depth Mapping and how we plan on getting there."
   ]
  },
  {
   "cell_type": "markdown",
   "metadata": {},
   "source": [
    "First, we want to write a function that will take raw depth and RGB values from the Kinect and filter out the object we are trying to map.  For example, if we want to map a water bottle that is between 2 to 4 feet away from the Kinect, we want to filter out all depth values that are not within 2 to 4 feet.\n"
   ]
  },
  {
   "cell_type": "markdown",
   "metadata": {},
   "source": [
    "After we filter out data not in our bounds, we want to scale our data from its original size (640 x 480) into the size of our cube (6 x 6)."
   ]
  },
  {
   "cell_type": "markdown",
   "metadata": {},
   "source": [
    "We already learned how to write Kinect still frames into .csv files, and in this notebook we will first read the data into an array."
   ]
  },
  {
   "cell_type": "markdown",
   "metadata": {},
   "source": [
    "Import the math and numpy modules first:"
   ]
  },
  {
   "cell_type": "code",
   "execution_count": 4,
   "metadata": {},
   "outputs": [],
   "source": [
    "import math\n",
    "import numpy as np"
   ]
  },
  {
   "cell_type": "markdown",
   "metadata": {},
   "source": [
    "### Reading Depth Data"
   ]
  },
  {
   "cell_type": "markdown",
   "metadata": {},
   "source": [
    "Next, initialize an empty python list and read from depth_data.csv.  Notice how, in the for loop, we create a list for each line using line.split(',').  Each line in f is originally a string of numbers, for example: '878,877,657'.  line.split(',') creates a python list in the form \\['878', '877', '657'].  We then need to convert the string values into integers, which is where list comprehension becomes useful.  Given an example python list named 'list', \\[int(i) for i in list] will convert all of the values in 'list' to integers if possible.  (Lookup documentation for [File Input/Output](https://docs.python.org/3/tutorial/inputoutput.html) and [list comprehension](https://www.pythonforbeginners.com/basics/list-comprehensions-in-python) for more help)"
   ]
  },
  {
   "cell_type": "markdown",
   "metadata": {},
   "source": [
    "In the cell below, given an empty list depth_data, read the data that you wrote to a .csv file in the previous challenge into depth_data."
   ]
  },
  {
   "cell_type": "code",
   "execution_count": 3,
   "metadata": {
    "scrolled": false
   },
   "outputs": [],
   "source": [
    "depth_data = []\n"
   ]
  },
  {
   "cell_type": "markdown",
   "metadata": {},
   "source": [
    "Check to make sure that the length of depth_data and the length of the first element of depth_data are 480 and 640, respectively.  These are the dimensions of the Kinect's camera.\n",
    "\n",
    "Example: \n",
    "\n",
    "len(depth_data) == 480\n",
    "\n",
    "len(depth_data[0]) == 640"
   ]
  },
  {
   "cell_type": "code",
   "execution_count": null,
   "metadata": {},
   "outputs": [],
   "source": []
  },
  {
   "cell_type": "code",
   "execution_count": null,
   "metadata": {},
   "outputs": [],
   "source": []
  },
  {
   "cell_type": "markdown",
   "metadata": {},
   "source": [
    "Create a variable 'raw_depth_data' to save the original values of depth_data before we filter the array."
   ]
  },
  {
   "cell_type": "code",
   "execution_count": 7,
   "metadata": {},
   "outputs": [],
   "source": [
    "raw_depth_data = ..."
   ]
  },
  {
   "cell_type": "markdown",
   "metadata": {},
   "source": [
    "### Filtering Algorithm"
   ]
  },
  {
   "cell_type": "markdown",
   "metadata": {},
   "source": [
    "Now that we have read our csv file into an array, we want to set bounds for the data we wish to see.  For example, if we want to visualize a water bottle that is between 3 and 5 feet from the Kinect, then we will only want to see data values between 3-5 feet to eliminate any background noise in the data.  Later on we will be visualizing our data and we will see the difference between the filtered and unfiltered data sets. "
   ]
  },
  {
   "cell_type": "markdown",
   "metadata": {},
   "source": [
    "At this point we will want depth_data to be a numpy array.  This will allow us to utilize an assortment of numpy functions that will make our algorithm more efficient.  If you are unfamiliar with numpy, refer to its documentation [here](https://docs.scipy.org/doc/numpy-1.16.1/reference/index.html) or check out our numpy tutorial."
   ]
  },
  {
   "cell_type": "code",
   "execution_count": 2,
   "metadata": {},
   "outputs": [],
   "source": [
    "depth_data = ..."
   ]
  },
  {
   "cell_type": "markdown",
   "metadata": {},
   "source": [
    "We set our upper and lower depth bounds to values in feet that will capture the object we are trying to map."
   ]
  },
  {
   "cell_type": "code",
   "execution_count": 8,
   "metadata": {},
   "outputs": [],
   "source": [
    "ft_lo_depth = 3   # You can set these variables to different values\n",
    "ft_u_depth = 7"
   ]
  },
  {
   "cell_type": "markdown",
   "metadata": {},
   "source": [
    "Using the distance formula given earlier, convert the values from feet to 11-bit depth values and assign the result to variables lo_depth and u_depth."
   ]
  },
  {
   "cell_type": "code",
   "execution_count": 1,
   "metadata": {},
   "outputs": [],
   "source": [
    "lo_depth = ...\n",
    "u_depth = ..."
   ]
  },
  {
   "cell_type": "markdown",
   "metadata": {},
   "source": [
    "In order to make our algorithm as efficient as possible, we want to avoid for loops that run through every value of our data.  Flatten depth_data using np.flatten"
   ]
  },
  {
   "cell_type": "code",
   "execution_count": 5,
   "metadata": {},
   "outputs": [],
   "source": [
    "depth_data = ..."
   ]
  },
  {
   "cell_type": "markdown",
   "metadata": {},
   "source": [
    "Now, because our array is one-dimensional, we want to be able to find the coordinates where our depth values are between lo_depth and u_depth.  By coordinates, we mean the x and y position where the depth value would be if it were a 2-dimensional array.  For example, if a value were at the position (2,3) in (rows, columns) of a 2D array with 5 rows and 4 columns, try to figure out what its position would be in a 1D array.  As in, if the 2D array were flattened, what single number would represent index (2,3) in our flattened array.  "
   ]
  },
  {
   "cell_type": "markdown",
   "metadata": {},
   "source": [
    "Using this example, extrapolate to the shape of raw_depth_data, the original 2D array, and figure out how to map the indices of raw_depth_data in a one dimensional array called 'coordinates'."
   ]
  },
  {
   "cell_type": "markdown",
   "metadata": {},
   "source": [
    "Now there are a variety of ways to filter a one dimensional array, but in any case, our filtering array of depth values will need to satisfy the condition of being between our set 'lo_depth' and 'u_depth' bounds."
   ]
  },
  {
   "cell_type": "markdown",
   "metadata": {},
   "source": [
    "First, find the values of the indices where the depth_data fits given upper and lower bounds, and wrap the resulting 1D list of values in a numpy array."
   ]
  },
  {
   "cell_type": "code",
   "execution_count": 6,
   "metadata": {},
   "outputs": [],
   "source": [
    "coordinates = ..."
   ]
  },
  {
   "cell_type": "code",
   "execution_count": null,
   "metadata": {},
   "outputs": [],
   "source": []
  },
  {
   "cell_type": "code",
   "execution_count": null,
   "metadata": {},
   "outputs": [],
   "source": []
  },
  {
   "cell_type": "markdown",
   "metadata": {},
   "source": [
    "Next, figure out how to filter 'depth_data' such that it is between 'lo_depth' and 'u_depth'"
   ]
  },
  {
   "cell_type": "code",
   "execution_count": 14,
   "metadata": {},
   "outputs": [],
   "source": []
  },
  {
   "cell_type": "code",
   "execution_count": 15,
   "metadata": {},
   "outputs": [
    {
     "data": {
      "text/plain": [
       "array([848., 849., 849., ..., 839., 848., 829.])"
      ]
     },
     "execution_count": 15,
     "metadata": {},
     "output_type": "execute_result"
    }
   ],
   "source": []
  },
  {
   "cell_type": "markdown",
   "metadata": {},
   "source": [
    "Once we have filtered out depth values that are not within our set upper and lower bounds, compare the length of the raw_depth_data with depth_data to make sure that depth_data is in fact smaller.  When finding the length of raw_depth_data, consider that it is a 2D array with all rows being the same length and figure out how to calculate the total number of values in a 2D array."
   ]
  },
  {
   "cell_type": "code",
   "execution_count": null,
   "metadata": {},
   "outputs": [],
   "source": [
    "# Compare the lengths of depth_data with raw_depth_data.\n"
   ]
  },
  {
   "cell_type": "code",
   "execution_count": null,
   "metadata": {},
   "outputs": [],
   "source": []
  },
  {
   "cell_type": "markdown",
   "metadata": {},
   "source": [
    "Continue if your length of depth_data is considerably smaller than the number of values in raw_depth_data."
   ]
  },
  {
   "cell_type": "markdown",
   "metadata": {},
   "source": [
    "### Scaling Algorithm"
   ]
  },
  {
   "cell_type": "markdown",
   "metadata": {},
   "source": [
    "Now that we have created a 1D array that contains our filtered depth values, we want to scale our data in order to display it on a cube."
   ]
  },
  {
   "cell_type": "markdown",
   "metadata": {},
   "source": [
    "Let look at one method to scale any given object.  Given the image below, how would we map the water bottle?"
   ]
  },
  {
   "cell_type": "markdown",
   "metadata": {},
   "source": [
    "<img src=\"example_image.jpg\">"
   ]
  },
  {
   "cell_type": "markdown",
   "metadata": {},
   "source": [
    "Picture a 3D cube surrounding the water bottle.  In our scaling algorithm, this cube will have the width and height of largest axis of our object (in this case the y-axis/height), and the depth will be as given by our bounds.  Our original bounds for depth set above may not in fact capture this water bottle, but imagine that they do.  What we want to do is take our cube surrounding the water bottle and scale the cube into smaller numbers."
   ]
  },
  {
   "cell_type": "markdown",
   "metadata": {},
   "source": [
    "Essentially we are fixing new dimensions for our cube that ultimately enables us to map the image on a physical cube."
   ]
  },
  {
   "cell_type": "markdown",
   "metadata": {},
   "source": [
    "Now that we have some intuition for what we wish to accomplish with our scaling algorithm, lets figure out how to scale our cube into smaller dimensions. Lets review what our filtered data looks like."
   ]
  },
  {
   "cell_type": "code",
   "execution_count": null,
   "metadata": {},
   "outputs": [],
   "source": [
    "depth_data"
   ]
  },
  {
   "cell_type": "markdown",
   "metadata": {},
   "source": [
    "Each value in our 1D array is a depth value representing the distance from the Kinect to whatever object you place in front of the Kinect."
   ]
  },
  {
   "cell_type": "markdown",
   "metadata": {},
   "source": [
    "First, lets find the x and y coordinates for each depth (z) value so that we can eventually transform our x, y, and z to the dimensions of the cube."
   ]
  },
  {
   "cell_type": "code",
   "execution_count": 18,
   "metadata": {},
   "outputs": [],
   "source": [
    "x_arr = ...  # All the x-values (from 0 to 639) where depth_data fits the depth bounds\n",
    "y_arr = ...   # All the y-values (from 0 to 479) where depth_data fits the depth bounds\n",
    "z_arr = ...  # All the z or depth values (11-bit) where depth_data fits the depth bounds"
   ]
  },
  {
   "cell_type": "markdown",
   "metadata": {},
   "source": [
    "We will store the depth data under a new variable to be used in visualizing the data later.  This will be done by creating a list of tuples using [set()](https://docs.python.org/2/library/sets.html) and [zip()](https://docs.python.org/3/library/functions.html#zip) functions."
   ]
  },
  {
   "cell_type": "code",
   "execution_count": null,
   "metadata": {},
   "outputs": [],
   "source": [
    "raw_tuple_depth = ...\n",
    "raw_tuple_depth"
   ]
  },
  {
   "cell_type": "markdown",
   "metadata": {},
   "source": [
    "Find bounds for each dimension (x, y, z) and store them under new variables."
   ]
  },
  {
   "cell_type": "code",
   "execution_count": 20,
   "metadata": {},
   "outputs": [],
   "source": [
    "r = ...   # Rightmost x-value\n",
    "le = ...  # Leftmost x-value\n",
    "u = ...   # Upper or smallest y-value\n",
    "lo = ...  # Lower or largest y-value\n",
    "b = ...   # Maximum z-value\n",
    "f = ...   # Minimum z-value"
   ]
  },
  {
   "cell_type": "markdown",
   "metadata": {},
   "source": [
    "We can now use the bounds of our object to scale our data.  Here is what this would look like in our example image:"
   ]
  },
  {
   "cell_type": "markdown",
   "metadata": {},
   "source": [
    "<img src=\"example_image_pt2.jpg\">"
   ]
  },
  {
   "cell_type": "markdown",
   "metadata": {},
   "source": [
    "raw_tuple_depth = ...\n",
    "raw_tuple_depth"
   ]
  },
  {
   "cell_type": "code",
   "execution_count": 21,
   "metadata": {},
   "outputs": [],
   "source": [
    "x_range = ...  # potential legnth of cube\n",
    "y_range = ...  # potential length of cube"
   ]
  },
  {
   "cell_type": "markdown",
   "metadata": {},
   "source": [
    "Looking at the image above, it intuitively makes sense to map our object by forming a square around the largest range between x and y.  In this case the y-range is largest."
   ]
  },
  {
   "cell_type": "code",
   "execution_count": 22,
   "metadata": {},
   "outputs": [],
   "source": [
    "max_range = ...   # find the maximum range between x and y.  A square will be formed around the maximum range which our object will be placed in\n",
    "x_mid = ...    # calculate the midpoint of the x-axis of the object\n",
    "y_mid = ...    # calculate the midpoint of the y-axis of the object"
   ]
  },
  {
   "cell_type": "code",
   "execution_count": 26,
   "metadata": {},
   "outputs": [
    {
     "data": {
      "text/plain": [
       "134"
      ]
     },
     "execution_count": 26,
     "metadata": {},
     "output_type": "execute_result"
    }
   ],
   "source": [
    "y_mid"
   ]
  },
  {
   "cell_type": "code",
   "execution_count": 27,
   "metadata": {},
   "outputs": [
    {
     "data": {
      "text/plain": [
       "315.5"
      ]
     },
     "execution_count": 27,
     "metadata": {},
     "output_type": "execute_result"
    }
   ],
   "source": [
    "x_half = x_range / 2  # half of the x_range of the object\n",
    "x_half"
   ]
  },
  {
   "cell_type": "markdown",
   "metadata": {},
   "source": [
    "Create a conditional below that will change upper bounds (u) or left bounds (le) based on if the x_range is larger or if the y_range is larger, respectively.  You can see what this will accomplish in the image below."
   ]
  },
  {
   "cell_type": "code",
   "execution_count": 28,
   "metadata": {},
   "outputs": [],
   "source": [
    "# Make an if else statement\n"
   ]
  },
  {
   "cell_type": "markdown",
   "metadata": {},
   "source": [
    "Here is what our x-y mapping should look like:"
   ]
  },
  {
   "cell_type": "markdown",
   "metadata": {},
   "source": [
    "<img src=\"example_image_pt3.jpg\">"
   ]
  },
  {
   "cell_type": "markdown",
   "metadata": {},
   "source": [
    "As for the z_range of our cube, we will use the distance between 'u_depth' and 'lo_depth'."
   ]
  },
  {
   "cell_type": "code",
   "execution_count": 29,
   "metadata": {},
   "outputs": [],
   "source": [
    "z_range = ..."
   ]
  },
  {
   "cell_type": "code",
   "execution_count": 30,
   "metadata": {},
   "outputs": [
    {
     "data": {
      "text/plain": [
       "217.4247884617812"
      ]
     },
     "execution_count": 30,
     "metadata": {},
     "output_type": "execute_result"
    }
   ],
   "source": [
    "z_range"
   ]
  },
  {
   "cell_type": "markdown",
   "metadata": {},
   "source": [
    "Create a variable 'cube_length' that will represent the length of our cube for this project."
   ]
  },
  {
   "cell_type": "code",
   "execution_count": null,
   "metadata": {},
   "outputs": [],
   "source": [
    "cube_length = ..."
   ]
  },
  {
   "cell_type": "markdown",
   "metadata": {},
   "source": [
    "Now we have all the components we need to scale 'depth_data' into our cube's values.  The resulting x, y, and z arrays should have values between 0 and the cube_length."
   ]
  },
  {
   "cell_type": "markdown",
   "metadata": {},
   "source": [
    "Try drawing a picture for this section to figure out how to scale our 3D cube from one set of dimensions into another.  Consider the picture above."
   ]
  },
  {
   "cell_type": "markdown",
   "metadata": {},
   "source": [
    "Variables 'x_new', 'y_new', and 'z_new' will represent our x, y, and z values in the dimensions of our cube. Ideally, we want to create these arrays using matrix manipulation allowed by numpy.  This means creating arrays and applying arithmetic operations on them to avoid using for loops.  This will make our algorithm much more efficient."
   ]
  },
  {
   "cell_type": "markdown",
   "metadata": {},
   "source": [
    "Hint: You will need to create additional variables below to scale the arrays and avoid for loops.  [This](https://www.pluralsight.com/guides/overview-basic-numpy-operations) article details how to apply arithmetic operations between numpy arrays."
   ]
  },
  {
   "cell_type": "code",
   "execution_count": null,
   "metadata": {},
   "outputs": [],
   "source": []
  },
  {
   "cell_type": "code",
   "execution_count": null,
   "metadata": {},
   "outputs": [],
   "source": []
  },
  {
   "cell_type": "code",
   "execution_count": null,
   "metadata": {},
   "outputs": [],
   "source": []
  },
  {
   "cell_type": "code",
   "execution_count": null,
   "metadata": {},
   "outputs": [],
   "source": [
    "# Create arrays x_new, y_new, and z_new that represent the x, y, and z values of our cube\n",
    "x_new = ...\n",
    "y_new = ...\n",
    "z_new = ... "
   ]
  },
  {
   "cell_type": "markdown",
   "metadata": {},
   "source": [
    "We will now be able to create our array of values that will map our object by combining x_new, y_new, and z_new arrays.  The output will be a list of tuples."
   ]
  },
  {
   "cell_type": "code",
   "execution_count": 7,
   "metadata": {},
   "outputs": [],
   "source": [
    "filtered_depth = ...\n",
    "filtered_depth"
   ]
  },
  {
   "cell_type": "markdown",
   "metadata": {},
   "source": [
    "As a final check, make sure that the sets of your x, y, and z arrays are within the values 0 to the length of the cube."
   ]
  },
  {
   "cell_type": "code",
   "execution_count": null,
   "metadata": {},
   "outputs": [],
   "source": []
  },
  {
   "cell_type": "markdown",
   "metadata": {},
   "source": [
    "# Visualizing Data"
   ]
  },
  {
   "cell_type": "markdown",
   "metadata": {},
   "source": [
    "In this section we will be using sklearn.cluster and plotly to visualize our data."
   ]
  },
  {
   "cell_type": "code",
   "execution_count": null,
   "metadata": {},
   "outputs": [],
   "source": [
    "# Make sure you have these following packages installed\n",
    "#from sklearn.cluster import SpectralClustering, KMeans\n",
    "import plotly.offline as py\n",
    "from plotly import graph_objs as go"
   ]
  },
  {
   "cell_type": "markdown",
   "metadata": {},
   "source": [
    "Lets look at our raw_tuple_depth variable we created earlier.  We will first visualize our raw data and compare that to our mapped data."
   ]
  },
  {
   "cell_type": "code",
   "execution_count": null,
   "metadata": {
    "scrolled": false
   },
   "outputs": [],
   "source": [
    "raw_tuple_depth"
   ]
  },
  {
   "cell_type": "markdown",
   "metadata": {},
   "source": [
    "Put the name of your fi"
   ]
  },
  {
   "cell_type": "code",
   "execution_count": null,
   "metadata": {},
   "outputs": [],
   "source": [
    "#plots = []\n",
    "x, y, z = raw_tuple_depth[:, 0], raw_tuple_depth[:, 1], raw_tuple_depth[:, 2]\n",
    "plots = [go.Scatter3d(x=x, y=y, z=z, mode='markers', marker=dict(size=2), connectgaps=False)] #,color=c[k]\n",
    "\n",
    "file_name = ...  #the name of your file\n",
    "py.plot(plots,filename=file_name,auto_open=True)"
   ]
  },
  {
   "cell_type": "markdown",
   "metadata": {},
   "source": [
    "Now lets look at our updated 'filtered_depth'."
   ]
  },
  {
   "cell_type": "code",
   "execution_count": null,
   "metadata": {},
   "outputs": [],
   "source": [
    "x, y, z = filtered_depth[:, 0], filtered_depth[:, 1], filtered_depth[:, 2]\n",
    "plots = [go.Scatter3d(x=x, y=y, z=z, mode='markers', marker=dict(size=2), connectgaps=False)]\n",
    "file_name = ... #the name of your file\n",
    "py.plot(plots,filename=file_name,auto_open=True)"
   ]
  },
  {
   "cell_type": "markdown",
   "metadata": {},
   "source": [
    "** If you want more information as to how these plots were generated, refer to [plotly](https://plot.ly/python/user-guide/) documentation"
   ]
  }
 ],
 "metadata": {
  "kernelspec": {
   "display_name": "Python 3",
   "language": "python",
   "name": "python3"
  },
  "language_info": {
   "codemirror_mode": {
    "name": "ipython",
    "version": 3
   },
   "file_extension": ".py",
   "mimetype": "text/x-python",
   "name": "python",
   "nbconvert_exporter": "python",
   "pygments_lexer": "ipython3",
   "version": "3.7.1"
  }
 },
 "nbformat": 4,
 "nbformat_minor": 2
}
